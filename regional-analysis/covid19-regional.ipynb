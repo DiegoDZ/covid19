{
 "cells": [
  {
   "cell_type": "markdown",
   "metadata": {
    "toc": true
   },
   "source": [
    "<h1>COVID-19 - Regional visualization <span class=\"tocSkip\"></span></h1>\n",
    "<div class=\"toc\"><ul class=\"toc-item\"><li><span><a href=\"#Introduction\" data-toc-modified-id=\"Introduction-1\"><span class=\"toc-item-num\">1&nbsp;&nbsp;</span>Introduction</a></span></li><li><span><a href=\"#Data-pre-processing\" data-toc-modified-id=\"Data-pre-processing-2\"><span class=\"toc-item-num\">2&nbsp;&nbsp;</span>Data pre-processing</a></span></li><li><span><a href=\"#Visualizations\" data-toc-modified-id=\"Visualizations-3\"><span class=\"toc-item-num\">3&nbsp;&nbsp;</span>Visualizations</a></span></li></ul></div>"
   ]
  },
  {
   "cell_type": "markdown",
   "metadata": {},
   "source": [
    "# Introduction\n",
    "\n",
    "--------\n",
    "This notebook... \n",
    "\n",
    "\n",
    "The *Data pre-processing* stage was almost all done by [@manu-jimenez](https://github.com/manu-jimenez) in its [notebook](https://github.com/manu-jimenez/covid19-manu/blob/master/covid19-manu.ipynb).\n",
    "\n",
    "--------\n",
    "\n",
    "Data from official source: https://covid19.isciii.es\n",
    "\n",
    "\n",
    "--------"
   ]
  },
  {
   "cell_type": "code",
   "execution_count": 118,
   "metadata": {},
   "outputs": [],
   "source": [
    "# Libraries and figure settings\n",
    "\n",
    "import io\n",
    "import numpy as np\n",
    "import pandas as pd\n",
    "from datetime import datetime\n",
    "import matplotlib.pyplot as plt\n",
    "import seaborn as sns\n",
    "import requests\n",
    "import time\n",
    "import matplotlib\n",
    "plt.style.use('fivethirtyeight')"
   ]
  },
  {
   "cell_type": "markdown",
   "metadata": {},
   "source": [
    "# Data pre-processing"
   ]
  },
  {
   "cell_type": "code",
   "execution_count": 80,
   "metadata": {},
   "outputs": [],
   "source": [
    "# Get data \n",
    "\n",
    "req = requests.get(\"https://covid19.isciii.es/resources/serie_historica_acumulados.csv\")\n",
    "csv = req.content.decode('ISO-8859-1')\n",
    "\n",
    "filename = 'serie_historica_acumulados.csv'\n",
    "with open(filename, 'w') as f:\n",
    "    f.write(r'./download_data/'+csv)"
   ]
  },
  {
   "cell_type": "code",
   "execution_count": 96,
   "metadata": {},
   "outputs": [],
   "source": [
    "# Constants, variables and dictionaries\n",
    "\n",
    "init_quarantine = np.datetime64('2020-03-15')\n",
    "init_strict_quarantine = np.datetime64('2020-03-30')\n",
    "\n",
    "nombres_ccaa = {'AN':'Andalucía', 'AR':'Aragón', 'AS':'Asturias', 'CB':'Cantabria', 'CE':'Ceuta',\n",
    "                'CL':'Castilla Y León', 'CM':'Castilla-La Mancha', 'CN':'Canarias', 'CT':'Cataluña', 'EX':'Extremadura',\n",
    "                'GA':'Galicia','IB':'Balears', 'MC':'Murcia', 'MD':'Madrid, Comunidad', 'ME':'Melilla',\n",
    "                'NC':'Navarra','PV':'País Vasco', 'RI':'Rioja, La', 'VC':'Valencia, Comunidad'\n",
    "               }"
   ]
  },
  {
   "cell_type": "code",
   "execution_count": 116,
   "metadata": {},
   "outputs": [
    {
     "data": {
      "text/html": [
       "<div>\n",
       "<style scoped>\n",
       "    .dataframe tbody tr th:only-of-type {\n",
       "        vertical-align: middle;\n",
       "    }\n",
       "\n",
       "    .dataframe tbody tr th {\n",
       "        vertical-align: top;\n",
       "    }\n",
       "\n",
       "    .dataframe thead th {\n",
       "        text-align: right;\n",
       "    }\n",
       "</style>\n",
       "<table border=\"1\" class=\"dataframe\">\n",
       "  <thead>\n",
       "    <tr style=\"text-align: right;\">\n",
       "      <th></th>\n",
       "      <th>Fecha</th>\n",
       "      <th>Casos</th>\n",
       "      <th>Hospitalizados</th>\n",
       "      <th>UCI</th>\n",
       "      <th>Fallecidos</th>\n",
       "      <th>Recuperados</th>\n",
       "      <th>Region</th>\n",
       "      <th>Dia</th>\n",
       "    </tr>\n",
       "  </thead>\n",
       "  <tbody>\n",
       "    <tr>\n",
       "      <th>42</th>\n",
       "      <td>2020-02-20</td>\n",
       "      <td>0.0</td>\n",
       "      <td>0.0</td>\n",
       "      <td>0.0</td>\n",
       "      <td>0.0</td>\n",
       "      <td>0.0</td>\n",
       "      <td>Andalucía</td>\n",
       "      <td>0</td>\n",
       "    </tr>\n",
       "    <tr>\n",
       "      <th>61</th>\n",
       "      <td>2020-02-21</td>\n",
       "      <td>0.0</td>\n",
       "      <td>0.0</td>\n",
       "      <td>0.0</td>\n",
       "      <td>0.0</td>\n",
       "      <td>0.0</td>\n",
       "      <td>Andalucía</td>\n",
       "      <td>1</td>\n",
       "    </tr>\n",
       "    <tr>\n",
       "      <th>80</th>\n",
       "      <td>2020-02-22</td>\n",
       "      <td>0.0</td>\n",
       "      <td>0.0</td>\n",
       "      <td>0.0</td>\n",
       "      <td>0.0</td>\n",
       "      <td>0.0</td>\n",
       "      <td>Andalucía</td>\n",
       "      <td>2</td>\n",
       "    </tr>\n",
       "    <tr>\n",
       "      <th>99</th>\n",
       "      <td>2020-02-23</td>\n",
       "      <td>0.0</td>\n",
       "      <td>0.0</td>\n",
       "      <td>0.0</td>\n",
       "      <td>0.0</td>\n",
       "      <td>0.0</td>\n",
       "      <td>Andalucía</td>\n",
       "      <td>3</td>\n",
       "    </tr>\n",
       "    <tr>\n",
       "      <th>118</th>\n",
       "      <td>2020-02-24</td>\n",
       "      <td>0.0</td>\n",
       "      <td>0.0</td>\n",
       "      <td>0.0</td>\n",
       "      <td>0.0</td>\n",
       "      <td>0.0</td>\n",
       "      <td>Andalucía</td>\n",
       "      <td>4</td>\n",
       "    </tr>\n",
       "  </tbody>\n",
       "</table>\n",
       "</div>"
      ],
      "text/plain": [
       "         Fecha  Casos  Hospitalizados  UCI  Fallecidos  Recuperados  \\\n",
       "42  2020-02-20    0.0             0.0  0.0         0.0          0.0   \n",
       "61  2020-02-21    0.0             0.0  0.0         0.0          0.0   \n",
       "80  2020-02-22    0.0             0.0  0.0         0.0          0.0   \n",
       "99  2020-02-23    0.0             0.0  0.0         0.0          0.0   \n",
       "118 2020-02-24    0.0             0.0  0.0         0.0          0.0   \n",
       "\n",
       "        Region  Dia  \n",
       "42   Andalucía    0  \n",
       "61   Andalucía    1  \n",
       "80   Andalucía    2  \n",
       "99   Andalucía    3  \n",
       "118  Andalucía    4  "
      ]
     },
     "execution_count": 116,
     "metadata": {},
     "output_type": "execute_result"
    }
   ],
   "source": [
    "# Create dataframe. # If there is no data use: df0 = pd.read_csv('./download_data/serie_historica_acumulados.csv')\n",
    "df = pd.read_csv(io.StringIO(csv), sep=',', skipfooter=1, parse_dates=[1], na_values=0, infer_datetime_format=True, engine='python')\n",
    "\n",
    "# Rename regions\n",
    "df.rename(columns={'CCAA Codigo ISO': 'Region', 'Casos ': 'Casos'}, inplace = True)\n",
    "df.replace({'Region': nombres_ccaa}, inplace= True)\n",
    "\n",
    "# Fill nan's and delete\n",
    "df = df.fillna(0)\n",
    "\n",
    "# Compute total values (Spain)\n",
    "total_españa = df.groupby('Fecha').sum().reset_index()\n",
    "total_españa['Region'] = ['España'] * len(total_españa)\n",
    "\n",
    "# Dtaframe with both the values by region (df0) and the spanish values\n",
    "df = pd.concat([total_españa, df], ignore_index=True)\n",
    "\n",
    "# Add day column (Black magic by @manu-jimenez)\n",
    "df['Dia'] = df.groupby('Region')['Fecha'].transform(lambda x: x - x.iloc[0]).dt.days \n",
    "df.sort_values(by=['Region','Fecha'], inplace = True)\n",
    "\n",
    "df.head()"
   ]
  },
  {
   "cell_type": "markdown",
   "metadata": {},
   "source": [
    "# Visualizations"
   ]
  },
  {
   "cell_type": "code",
   "execution_count": null,
   "metadata": {},
   "outputs": [],
   "source": []
  }
 ],
 "metadata": {
  "hide_input": false,
  "kernelspec": {
   "display_name": "Python 3",
   "language": "python",
   "name": "python3"
  },
  "language_info": {
   "codemirror_mode": {
    "name": "ipython",
    "version": 3
   },
   "file_extension": ".py",
   "mimetype": "text/x-python",
   "name": "python",
   "nbconvert_exporter": "python",
   "pygments_lexer": "ipython3",
   "version": "3.7.6"
  },
  "latex_envs": {
   "LaTeX_envs_menu_present": true,
   "autoclose": false,
   "autocomplete": true,
   "bibliofile": "biblio.bib",
   "cite_by": "apalike",
   "current_citInitial": 1,
   "eqLabelWithNumbers": true,
   "eqNumInitial": 1,
   "hotkeys": {
    "equation": "Ctrl-E",
    "itemize": "Ctrl-I"
   },
   "labels_anchors": false,
   "latex_user_defs": false,
   "report_style_numbering": false,
   "user_envs_cfg": false
  },
  "toc": {
   "base_numbering": 1,
   "nav_menu": {},
   "number_sections": true,
   "sideBar": true,
   "skip_h1_title": false,
   "title_cell": "COVID-19 - Regional visualization ",
   "title_sidebar": "Contents",
   "toc_cell": true,
   "toc_position": {
    "height": "calc(100% - 180px)",
    "left": "10px",
    "top": "150px",
    "width": "288px"
   },
   "toc_section_display": true,
   "toc_window_display": true
  }
 },
 "nbformat": 4,
 "nbformat_minor": 2
}
