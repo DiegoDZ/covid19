{
 "cells": [
  {
   "cell_type": "markdown",
   "metadata": {
    "toc": true
   },
   "source": [
    "<h1>COVID-19 - Regional visualization <span class=\"tocSkip\"></span></h1>\n",
    "<div class=\"toc\"><ul class=\"toc-item\"><li><span><a href=\"#Introduction\" data-toc-modified-id=\"Introduction-1\"><span class=\"toc-item-num\">1&nbsp;&nbsp;</span>Introduction</a></span></li><li><span><a href=\"#Data-pre-processing\" data-toc-modified-id=\"Data-pre-processing-2\"><span class=\"toc-item-num\">2&nbsp;&nbsp;</span>Data pre-processing</a></span></li><li><span><a href=\"#Visualizations\" data-toc-modified-id=\"Visualizations-3\"><span class=\"toc-item-num\">3&nbsp;&nbsp;</span>Visualizations</a></span></li></ul></div>"
   ]
  },
  {
   "cell_type": "markdown",
   "metadata": {},
   "source": [
    "# Introduction\n",
    "\n",
    "--------\n",
    "This notebook... \n",
    "\n",
    "\n",
    "The *Data pre-processing* stage was almost all done by [@manu-jimenez](https://github.com/manu-jimenez) in its [notebook](https://github.com/manu-jimenez/covid19-manu/blob/master/covid19-manu.ipynb).\n",
    "\n",
    "\n",
    "\n",
    "--------\n",
    "\n",
    "Data about COVID-19 in Spain from: https://covid19.isciii.es\n",
    "\n",
    "Population data from INE: https://www.ine.es/jaxiT3/Datos.htm?t=2915\n",
    "\n",
    "--------"
   ]
  },
  {
   "cell_type": "code",
   "execution_count": 18,
   "metadata": {},
   "outputs": [],
   "source": [
    "# Libraries and figure settings\n",
    "\n",
    "import io\n",
    "import numpy as np\n",
    "import pandas as pd\n",
    "from datetime import datetime\n",
    "import matplotlib.pyplot as plt\n",
    "import seaborn as sns\n",
    "import requests\n",
    "import time\n",
    "import matplotlib\n",
    "plt.style.use('fivethirtyeight')"
   ]
  },
  {
   "cell_type": "markdown",
   "metadata": {},
   "source": [
    "# Data pre-processing"
   ]
  },
  {
   "cell_type": "code",
   "execution_count": 19,
   "metadata": {},
   "outputs": [],
   "source": [
    "# Get COVID-19 data \n",
    "req = requests.get(\"https://covid19.isciii.es/resources/serie_historica_acumulados.csv\")\n",
    "csv = req.content.decode('ISO-8859-1')\n",
    "\n",
    "filename = 'serie_historica_acumulados.csv'\n",
    "with open(filename, 'w') as f:\n",
    "    f.write(csv)\n",
    "    \n",
    "# Load population file (Source: INE)\n",
    "population = pd.read_csv('censo_espana_2019.csv',sep=';')"
   ]
  },
  {
   "cell_type": "code",
   "execution_count": 20,
   "metadata": {},
   "outputs": [],
   "source": [
    "# Constants, variables and dictionaries\n",
    "\n",
    "init_quarantine = np.datetime64('2020-03-15')\n",
    "init_strict_quarantine = np.datetime64('2020-03-30')"
   ]
  },
  {
   "cell_type": "code",
   "execution_count": 21,
   "metadata": {},
   "outputs": [
    {
     "data": {
      "text/html": [
       "<div>\n",
       "<style scoped>\n",
       "    .dataframe tbody tr th:only-of-type {\n",
       "        vertical-align: middle;\n",
       "    }\n",
       "\n",
       "    .dataframe tbody tr th {\n",
       "        vertical-align: top;\n",
       "    }\n",
       "\n",
       "    .dataframe thead th {\n",
       "        text-align: right;\n",
       "    }\n",
       "</style>\n",
       "<table border=\"1\" class=\"dataframe\">\n",
       "  <thead>\n",
       "    <tr style=\"text-align: right;\">\n",
       "      <th></th>\n",
       "      <th>Fecha</th>\n",
       "      <th>Casos</th>\n",
       "      <th>Hospitalizados</th>\n",
       "      <th>UCI</th>\n",
       "      <th>Fallecidos</th>\n",
       "      <th>Recuperados</th>\n",
       "      <th>Region</th>\n",
       "      <th>Dia</th>\n",
       "    </tr>\n",
       "  </thead>\n",
       "  <tbody>\n",
       "    <tr>\n",
       "      <th>21</th>\n",
       "      <td>2020-03-12</td>\n",
       "      <td>4130.0</td>\n",
       "      <td>1858.0</td>\n",
       "      <td>270.0</td>\n",
       "      <td>120.0</td>\n",
       "      <td>181.0</td>\n",
       "      <td>Spain</td>\n",
       "      <td>21.0</td>\n",
       "    </tr>\n",
       "    <tr>\n",
       "      <th>22</th>\n",
       "      <td>2020-03-13</td>\n",
       "      <td>5844.0</td>\n",
       "      <td>2120.0</td>\n",
       "      <td>296.0</td>\n",
       "      <td>134.0</td>\n",
       "      <td>512.0</td>\n",
       "      <td>Spain</td>\n",
       "      <td>22.0</td>\n",
       "    </tr>\n",
       "    <tr>\n",
       "      <th>23</th>\n",
       "      <td>2020-03-14</td>\n",
       "      <td>7698.0</td>\n",
       "      <td>3096.0</td>\n",
       "      <td>383.0</td>\n",
       "      <td>285.0</td>\n",
       "      <td>517.0</td>\n",
       "      <td>Spain</td>\n",
       "      <td>23.0</td>\n",
       "    </tr>\n",
       "    <tr>\n",
       "      <th>24</th>\n",
       "      <td>2020-03-15</td>\n",
       "      <td>9149.0</td>\n",
       "      <td>3435.0</td>\n",
       "      <td>416.0</td>\n",
       "      <td>306.0</td>\n",
       "      <td>530.0</td>\n",
       "      <td>Spain</td>\n",
       "      <td>24.0</td>\n",
       "    </tr>\n",
       "    <tr>\n",
       "      <th>25</th>\n",
       "      <td>2020-03-16</td>\n",
       "      <td>11178.0</td>\n",
       "      <td>5136.0</td>\n",
       "      <td>563.0</td>\n",
       "      <td>491.0</td>\n",
       "      <td>1028.0</td>\n",
       "      <td>Spain</td>\n",
       "      <td>25.0</td>\n",
       "    </tr>\n",
       "  </tbody>\n",
       "</table>\n",
       "</div>"
      ],
      "text/plain": [
       "        Fecha    Casos  Hospitalizados    UCI  Fallecidos  Recuperados Region  \\\n",
       "21 2020-03-12   4130.0          1858.0  270.0       120.0        181.0  Spain   \n",
       "22 2020-03-13   5844.0          2120.0  296.0       134.0        512.0  Spain   \n",
       "23 2020-03-14   7698.0          3096.0  383.0       285.0        517.0  Spain   \n",
       "24 2020-03-15   9149.0          3435.0  416.0       306.0        530.0  Spain   \n",
       "25 2020-03-16  11178.0          5136.0  563.0       491.0       1028.0  Spain   \n",
       "\n",
       "     Dia  \n",
       "21  21.0  \n",
       "22  22.0  \n",
       "23  23.0  \n",
       "24  24.0  \n",
       "25  25.0  "
      ]
     },
     "execution_count": 21,
     "metadata": {},
     "output_type": "execute_result"
    }
   ],
   "source": [
    "# Create dataframe. # If there is no data use: df0 = pd.read_csv('./download_data/serie_historica_acumulados.csv')\n",
    "df = pd.read_csv(io.StringIO(csv), sep=',', skipfooter=1, parse_dates=[1], dayfirst=True, engine='python')\n",
    "\n",
    "# Rename columns and replace CCAA codes\n",
    "df.rename(columns={'CCAA Codigo ISO': 'Region', 'Casos ': 'Casos'}, inplace = True)\n",
    "\n",
    "# Fill nan's\n",
    "df[['Casos', 'Hospitalizados', 'UCI', 'Fallecidos', 'Recuperados']] = df[['Casos', 'Hospitalizados', 'UCI', 'Fallecidos', 'Recuperados']].fillna(0)\n",
    "\n",
    "# Compute total\n",
    "df = df.sort_values(by=['Region','Fecha']).reset_index(drop=True)\n",
    "total_spain = df.groupby('Fecha').sum().reset_index()\n",
    "total_spain['Region'] = ['Spain'] * len(total_spain)\n",
    "\n",
    "# Concatenate both df and total_spain\n",
    "df = pd.concat([total_spain, df])\n",
    "\n",
    "# Add day\n",
    "df['Dia'] = df.groupby('Region')['Fecha'].transform(lambda x: x - x.iloc[0]).dt.days \n",
    "\n",
    "\n",
    "# Only take data if deaths > 100\n",
    "df = df[df['Fallecidos'] > 100]\n",
    "\n",
    "\n",
    "df.head()"
   ]
  },
  {
   "cell_type": "code",
   "execution_count": 23,
   "metadata": {},
   "outputs": [],
   "source": [
    "# Compute new metrics using population by region\n",
    "df = df.merge(population, 'left', on='Region')\n",
    "\n",
    "df['Casos_per_capita'] = df['Casos'] / df['Population'] * 100\n",
    "df['Hospitalizados_por_casos'] = df['Hospitalizados'] / df['Casos'] * 100\n",
    "df['UCI_por_hospitalizados'] = df['UCI'] / df['Hospitalizados'] * 100\n",
    "df['Letalidad'] = df['Fallecidos'] / df['Casos'] * 100\n",
    "df['Mortalidad'] = df['Fallecidos'] / df['Population'] * 100\n",
    "df['Recuperados_por_casos'] = df['Recuperados'] / df['Casos'] * 100"
   ]
  },
  {
   "cell_type": "code",
   "execution_count": 25,
   "metadata": {},
   "outputs": [
    {
     "data": {
      "text/plain": [
       "Index(['Fecha', 'Casos', 'Hospitalizados', 'UCI', 'Fallecidos', 'Recuperados',\n",
       "       'Region', 'Dia', 'Population', 'Casos_per_capita',\n",
       "       'Hospitalizados_por_casos', 'UCI_por_hospitalizados', 'Letalidad',\n",
       "       'Mortalidad', 'Recuperados_por_casos'],\n",
       "      dtype='object')"
      ]
     },
     "execution_count": 25,
     "metadata": {},
     "output_type": "execute_result"
    }
   ],
   "source": [
    "df.columns"
   ]
  },
  {
   "cell_type": "markdown",
   "metadata": {},
   "source": [
    "# Visualizations"
   ]
  },
  {
   "cell_type": "code",
   "execution_count": null,
   "metadata": {},
   "outputs": [],
   "source": []
  }
 ],
 "metadata": {
  "hide_input": false,
  "kernelspec": {
   "display_name": "Python 3",
   "language": "python",
   "name": "python3"
  },
  "language_info": {
   "codemirror_mode": {
    "name": "ipython",
    "version": 3
   },
   "file_extension": ".py",
   "mimetype": "text/x-python",
   "name": "python",
   "nbconvert_exporter": "python",
   "pygments_lexer": "ipython3",
   "version": "3.7.6"
  },
  "latex_envs": {
   "LaTeX_envs_menu_present": true,
   "autoclose": false,
   "autocomplete": true,
   "bibliofile": "biblio.bib",
   "cite_by": "apalike",
   "current_citInitial": 1,
   "eqLabelWithNumbers": true,
   "eqNumInitial": 1,
   "hotkeys": {
    "equation": "Ctrl-E",
    "itemize": "Ctrl-I"
   },
   "labels_anchors": false,
   "latex_user_defs": false,
   "report_style_numbering": false,
   "user_envs_cfg": false
  },
  "toc": {
   "base_numbering": 1,
   "nav_menu": {},
   "number_sections": true,
   "sideBar": true,
   "skip_h1_title": false,
   "title_cell": "COVID-19 - Regional visualization ",
   "title_sidebar": "Contents",
   "toc_cell": true,
   "toc_position": {
    "height": "calc(100% - 180px)",
    "left": "10px",
    "top": "150px",
    "width": "288px"
   },
   "toc_section_display": true,
   "toc_window_display": true
  }
 },
 "nbformat": 4,
 "nbformat_minor": 2
}
